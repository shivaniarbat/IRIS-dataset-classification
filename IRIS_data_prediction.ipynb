{
  "nbformat": 4,
  "nbformat_minor": 0,
  "metadata": {
    "colab": {
      "name": "IRIS data prediction.ipynb",
      "provenance": [],
      "collapsed_sections": []
    },
    "kernelspec": {
      "name": "python3",
      "display_name": "Python 3"
    }
  },
  "cells": [
    {
      "cell_type": "markdown",
      "metadata": {
        "id": "Nm5E_o5O5C5-",
        "colab_type": "text"
      },
      "source": [
        "# IRIS dataset classification using DNN\n",
        "This dataset classification model is build using Tensorflow. \n",
        "This dataset separates flowers into 3 different classes of species\n",
        "- Setosa\n",
        "- Versicolor\n",
        "- Virginica\n",
        "\n",
        "Following features are explanatory variables for each data point :\n",
        "- sepal length\n",
        "- sepal width\n",
        "- petal lenght\n",
        "- petal width"
      ]
    },
    {
      "cell_type": "code",
      "metadata": {
        "id": "vNCNZd5SEIsb",
        "colab_type": "code",
        "colab": {}
      },
      "source": [
        "%tensorflow_version 2.x"
      ],
      "execution_count": 0,
      "outputs": []
    },
    {
      "cell_type": "code",
      "metadata": {
        "id": "fPOvvK756aQ2",
        "colab_type": "code",
        "colab": {}
      },
      "source": [
        "from __future__ import absolute_import, division, print_function, unicode_literals\n",
        "\n",
        "import tensorflow as tf\n",
        "import pandas as pd"
      ],
      "execution_count": 0,
      "outputs": []
    },
    {
      "cell_type": "code",
      "metadata": {
        "id": "pUiV45L36kFF",
        "colab_type": "code",
        "colab": {}
      },
      "source": [
        "# these are the column names for the provided data in the csv file. out of which species is the once we would classify.\n",
        "# response variable : 'Species'\n",
        "# explanatory variables : 'SepalLength','SepalWidth','PetalLength','PetalWidth'\n",
        "CSV_COLUMN_NAMES = ['SepalLength','SepalWidth','PetalLength','PetalWidth','Species']\n",
        "SPECIES = ['Setosa', 'Vericolor', 'Virginica']"
      ],
      "execution_count": 0,
      "outputs": []
    },
    {
      "cell_type": "code",
      "metadata": {
        "id": "XS5PZ7L77Wv-",
        "colab_type": "code",
        "outputId": "3da85a95-db23-49f3-f5d7-ecdd1a388fb5",
        "colab": {
          "base_uri": "https://localhost:8080/",
          "height": 105
        }
      },
      "source": [
        "# we are using keras to grab our datasets and read them into a pandas dataframe \n",
        "# create test and training data frames \n",
        "train_path = tf.keras.utils.get_file(\"iris_training.csv\", \n",
        "                                     \"https://storage.googleapis.com/download.tensorflow.org/data/iris_training.csv\")\n",
        "test_path = tf.keras.utils.get_file(\"iris_test.csv\",\n",
        "                                    \"https://storage.googleapis.com/download.tensorflow.org/data/iris_test.csv\")\n",
        "train = pd.read_csv(train_path, names=CSV_COLUMN_NAMES, header=0)\n",
        "test = pd.read_csv(test_path, names=CSV_COLUMN_NAMES, header=0)"
      ],
      "execution_count": 5,
      "outputs": [
        {
          "output_type": "stream",
          "text": [
            "Downloading data from https://storage.googleapis.com/download.tensorflow.org/data/iris_training.csv\n",
            "8192/2194 [================================================================================================================] - 0s 0us/step\n",
            "Downloading data from https://storage.googleapis.com/download.tensorflow.org/data/iris_test.csv\n",
            "8192/573 [============================================================================================================================================================================================================================================================================================================================================================================================================================================] - 0s 0us/step\n"
          ],
          "name": "stdout"
        }
      ]
    },
    {
      "cell_type": "code",
      "metadata": {
        "id": "G1bQPGEtpRBz",
        "colab_type": "code",
        "outputId": "3b7fb486-f489-46f4-ec1d-dd4f51c59506",
        "colab": {
          "base_uri": "https://localhost:8080/",
          "height": 204
        }
      },
      "source": [
        "train.head() # check how does the data look in the dataframe"
      ],
      "execution_count": 6,
      "outputs": [
        {
          "output_type": "execute_result",
          "data": {
            "text/html": [
              "<div>\n",
              "<style scoped>\n",
              "    .dataframe tbody tr th:only-of-type {\n",
              "        vertical-align: middle;\n",
              "    }\n",
              "\n",
              "    .dataframe tbody tr th {\n",
              "        vertical-align: top;\n",
              "    }\n",
              "\n",
              "    .dataframe thead th {\n",
              "        text-align: right;\n",
              "    }\n",
              "</style>\n",
              "<table border=\"1\" class=\"dataframe\">\n",
              "  <thead>\n",
              "    <tr style=\"text-align: right;\">\n",
              "      <th></th>\n",
              "      <th>SepalLength</th>\n",
              "      <th>SepalWidth</th>\n",
              "      <th>PetalLength</th>\n",
              "      <th>PetalWidth</th>\n",
              "      <th>Species</th>\n",
              "    </tr>\n",
              "  </thead>\n",
              "  <tbody>\n",
              "    <tr>\n",
              "      <th>0</th>\n",
              "      <td>6.4</td>\n",
              "      <td>2.8</td>\n",
              "      <td>5.6</td>\n",
              "      <td>2.2</td>\n",
              "      <td>2</td>\n",
              "    </tr>\n",
              "    <tr>\n",
              "      <th>1</th>\n",
              "      <td>5.0</td>\n",
              "      <td>2.3</td>\n",
              "      <td>3.3</td>\n",
              "      <td>1.0</td>\n",
              "      <td>1</td>\n",
              "    </tr>\n",
              "    <tr>\n",
              "      <th>2</th>\n",
              "      <td>4.9</td>\n",
              "      <td>2.5</td>\n",
              "      <td>4.5</td>\n",
              "      <td>1.7</td>\n",
              "      <td>2</td>\n",
              "    </tr>\n",
              "    <tr>\n",
              "      <th>3</th>\n",
              "      <td>4.9</td>\n",
              "      <td>3.1</td>\n",
              "      <td>1.5</td>\n",
              "      <td>0.1</td>\n",
              "      <td>0</td>\n",
              "    </tr>\n",
              "    <tr>\n",
              "      <th>4</th>\n",
              "      <td>5.7</td>\n",
              "      <td>3.8</td>\n",
              "      <td>1.7</td>\n",
              "      <td>0.3</td>\n",
              "      <td>0</td>\n",
              "    </tr>\n",
              "  </tbody>\n",
              "</table>\n",
              "</div>"
            ],
            "text/plain": [
              "   SepalLength  SepalWidth  PetalLength  PetalWidth  Species\n",
              "0          6.4         2.8          5.6         2.2        2\n",
              "1          5.0         2.3          3.3         1.0        1\n",
              "2          4.9         2.5          4.5         1.7        2\n",
              "3          4.9         3.1          1.5         0.1        0\n",
              "4          5.7         3.8          1.7         0.3        0"
            ]
          },
          "metadata": {
            "tags": []
          },
          "execution_count": 6
        }
      ]
    },
    {
      "cell_type": "code",
      "metadata": {
        "id": "1tB0nP56pUNa",
        "colab_type": "code",
        "outputId": "48e78f29-56a0-4fb6-cab3-8a623861fc7c",
        "colab": {
          "base_uri": "https://localhost:8080/",
          "height": 204
        }
      },
      "source": [
        "# remove Species column in repsonse varaible data frame\n",
        "train_y = train.pop('Species')\n",
        "test_y = test.pop('Species')\n",
        "train.head()"
      ],
      "execution_count": 7,
      "outputs": [
        {
          "output_type": "execute_result",
          "data": {
            "text/html": [
              "<div>\n",
              "<style scoped>\n",
              "    .dataframe tbody tr th:only-of-type {\n",
              "        vertical-align: middle;\n",
              "    }\n",
              "\n",
              "    .dataframe tbody tr th {\n",
              "        vertical-align: top;\n",
              "    }\n",
              "\n",
              "    .dataframe thead th {\n",
              "        text-align: right;\n",
              "    }\n",
              "</style>\n",
              "<table border=\"1\" class=\"dataframe\">\n",
              "  <thead>\n",
              "    <tr style=\"text-align: right;\">\n",
              "      <th></th>\n",
              "      <th>SepalLength</th>\n",
              "      <th>SepalWidth</th>\n",
              "      <th>PetalLength</th>\n",
              "      <th>PetalWidth</th>\n",
              "    </tr>\n",
              "  </thead>\n",
              "  <tbody>\n",
              "    <tr>\n",
              "      <th>0</th>\n",
              "      <td>6.4</td>\n",
              "      <td>2.8</td>\n",
              "      <td>5.6</td>\n",
              "      <td>2.2</td>\n",
              "    </tr>\n",
              "    <tr>\n",
              "      <th>1</th>\n",
              "      <td>5.0</td>\n",
              "      <td>2.3</td>\n",
              "      <td>3.3</td>\n",
              "      <td>1.0</td>\n",
              "    </tr>\n",
              "    <tr>\n",
              "      <th>2</th>\n",
              "      <td>4.9</td>\n",
              "      <td>2.5</td>\n",
              "      <td>4.5</td>\n",
              "      <td>1.7</td>\n",
              "    </tr>\n",
              "    <tr>\n",
              "      <th>3</th>\n",
              "      <td>4.9</td>\n",
              "      <td>3.1</td>\n",
              "      <td>1.5</td>\n",
              "      <td>0.1</td>\n",
              "    </tr>\n",
              "    <tr>\n",
              "      <th>4</th>\n",
              "      <td>5.7</td>\n",
              "      <td>3.8</td>\n",
              "      <td>1.7</td>\n",
              "      <td>0.3</td>\n",
              "    </tr>\n",
              "  </tbody>\n",
              "</table>\n",
              "</div>"
            ],
            "text/plain": [
              "   SepalLength  SepalWidth  PetalLength  PetalWidth\n",
              "0          6.4         2.8          5.6         2.2\n",
              "1          5.0         2.3          3.3         1.0\n",
              "2          4.9         2.5          4.5         1.7\n",
              "3          4.9         3.1          1.5         0.1\n",
              "4          5.7         3.8          1.7         0.3"
            ]
          },
          "metadata": {
            "tags": []
          },
          "execution_count": 7
        }
      ]
    },
    {
      "cell_type": "code",
      "metadata": {
        "id": "j-8ICOQ4pgRt",
        "colab_type": "code",
        "outputId": "bd307a7d-fe0f-4176-a67b-f45424b52a39",
        "colab": {
          "base_uri": "https://localhost:8080/",
          "height": 34
        }
      },
      "source": [
        "train.shape"
      ],
      "execution_count": 8,
      "outputs": [
        {
          "output_type": "execute_result",
          "data": {
            "text/plain": [
              "(120, 4)"
            ]
          },
          "metadata": {
            "tags": []
          },
          "execution_count": 8
        }
      ]
    },
    {
      "cell_type": "code",
      "metadata": {
        "id": "PkT_9TtspiS5",
        "colab_type": "code",
        "outputId": "ca932036-0b0c-4c78-9ea6-b75c35aa6807",
        "colab": {
          "base_uri": "https://localhost:8080/",
          "height": 34
        }
      },
      "source": [
        "test.shape"
      ],
      "execution_count": 9,
      "outputs": [
        {
          "output_type": "execute_result",
          "data": {
            "text/plain": [
              "(30, 4)"
            ]
          },
          "metadata": {
            "tags": []
          },
          "execution_count": 9
        }
      ]
    },
    {
      "cell_type": "code",
      "metadata": {
        "id": "M3brBgY9rCq5",
        "colab_type": "code",
        "outputId": "f817666b-c3ad-4bfb-b58b-75ff6e9f1d12",
        "colab": {
          "base_uri": "https://localhost:8080/",
          "height": 34
        }
      },
      "source": [
        "train.keys()"
      ],
      "execution_count": 10,
      "outputs": [
        {
          "output_type": "execute_result",
          "data": {
            "text/plain": [
              "Index(['SepalLength', 'SepalWidth', 'PetalLength', 'PetalWidth'], dtype='object')"
            ]
          },
          "metadata": {
            "tags": []
          },
          "execution_count": 10
        }
      ]
    },
    {
      "cell_type": "markdown",
      "metadata": {
        "id": "IWUwT9LapoFh",
        "colab_type": "text"
      },
      "source": [
        "# Input Function \n",
        "\n",
        "create a input function on how we want to train and test out data"
      ]
    },
    {
      "cell_type": "code",
      "metadata": {
        "id": "bYd_JwvXpk0K",
        "colab_type": "code",
        "colab": {}
      },
      "source": [
        "def input_fn(features, labels, training=True, batch_size=256):\n",
        "  # Convert the input to a Dataset\n",
        "  dataset = tf.data.Dataset.from_tensor_slices((dict(features), labels))\n",
        "\n",
        "  # Shuffle and repeat if training \n",
        "  if training:\n",
        "    dataset = dataset.shuffle(1000).repeat()\n",
        "\n",
        "  return dataset.batch(batch_size)"
      ],
      "execution_count": 0,
      "outputs": []
    },
    {
      "cell_type": "markdown",
      "metadata": {
        "id": "i64Hmrnqqa2y",
        "colab_type": "text"
      },
      "source": [
        "# Feature Columns \n"
      ]
    },
    {
      "cell_type": "code",
      "metadata": {
        "id": "UWMgyKhEqPxA",
        "colab_type": "code",
        "outputId": "b7ef7a34-14bf-49ef-b5f2-b9631e097c74",
        "colab": {
          "base_uri": "https://localhost:8080/",
          "height": 54
        }
      },
      "source": [
        "# featuer columns describe how to use input \n",
        "my_feature_columns=[]\n",
        "for key in train.keys():\n",
        "  my_feature_columns.append(tf.feature_column.numeric_column(key=key))\n",
        "print(my_feature_columns)"
      ],
      "execution_count": 12,
      "outputs": [
        {
          "output_type": "stream",
          "text": [
            "[NumericColumn(key='SepalLength', shape=(1,), default_value=None, dtype=tf.float32, normalizer_fn=None), NumericColumn(key='SepalWidth', shape=(1,), default_value=None, dtype=tf.float32, normalizer_fn=None), NumericColumn(key='PetalLength', shape=(1,), default_value=None, dtype=tf.float32, normalizer_fn=None), NumericColumn(key='PetalWidth', shape=(1,), default_value=None, dtype=tf.float32, normalizer_fn=None)]\n"
          ],
          "name": "stdout"
        }
      ]
    },
    {
      "cell_type": "markdown",
      "metadata": {
        "id": "hBdb_XIvrU3Z",
        "colab_type": "text"
      },
      "source": [
        "# Building a Model\n",
        "DNN classifier is built since we do not know the linear relationship between the provided featuers for the IRIS dataset "
      ]
    },
    {
      "cell_type": "code",
      "metadata": {
        "id": "oV5ikOe-qsOd",
        "colab_type": "code",
        "outputId": "8a7d2dc0-e055-4d8a-994f-5591c45a6bf9",
        "colab": {
          "base_uri": "https://localhost:8080/",
          "height": 190
        }
      },
      "source": [
        "# Build a DNN with 2 hidden layers with 30, 20 and 10 nodes each\n",
        "classifier = tf.estimator.DNNClassifier(\n",
        "    feature_columns=my_feature_columns,\n",
        "    hidden_units=[30,20,10],\n",
        "    n_classes=3\n",
        ")\n",
        "\n",
        "# initially these hidden units were taken as 30, 5. However to improve the accuracy I tested it wil multiple combinations and final 30,20,10 combination of\n",
        "# hidden units resulted in 12% loss which is comparitvely better from earlier results"
      ],
      "execution_count": 13,
      "outputs": [
        {
          "output_type": "stream",
          "text": [
            "INFO:tensorflow:Using default config.\n",
            "WARNING:tensorflow:Using temporary folder as model directory: /tmp/tmpwads2zkt\n",
            "INFO:tensorflow:Using config: {'_model_dir': '/tmp/tmpwads2zkt', '_tf_random_seed': None, '_save_summary_steps': 100, '_save_checkpoints_steps': None, '_save_checkpoints_secs': 600, '_session_config': allow_soft_placement: true\n",
            "graph_options {\n",
            "  rewrite_options {\n",
            "    meta_optimizer_iterations: ONE\n",
            "  }\n",
            "}\n",
            ", '_keep_checkpoint_max': 5, '_keep_checkpoint_every_n_hours': 10000, '_log_step_count_steps': 100, '_train_distribute': None, '_device_fn': None, '_protocol': None, '_eval_distribute': None, '_experimental_distribute': None, '_experimental_max_worker_delay_secs': None, '_session_creation_timeout_secs': 7200, '_service': None, '_cluster_spec': ClusterSpec({}), '_task_type': 'worker', '_task_id': 0, '_global_id_in_cluster': 0, '_master': '', '_evaluation_master': '', '_is_chief': True, '_num_ps_replicas': 0, '_num_worker_replicas': 1}\n"
          ],
          "name": "stdout"
        }
      ]
    },
    {
      "cell_type": "markdown",
      "metadata": {
        "id": "erPNBqiYr5pY",
        "colab_type": "text"
      },
      "source": [
        "# Train your model\n",
        "This model is trained with steps = 5000"
      ]
    },
    {
      "cell_type": "code",
      "metadata": {
        "id": "vJ8m-4s4rw-c",
        "colab_type": "code",
        "outputId": "23eb3b26-5ddf-4962-907c-ab3d4f4b7423",
        "colab": {
          "base_uri": "https://localhost:8080/",
          "height": 1000
        }
      },
      "source": [
        "classifier.train(\n",
        "    input_fn=lambda: input_fn(train, train_y, training=True),\n",
        "    steps=5000\n",
        ")"
      ],
      "execution_count": 23,
      "outputs": [
        {
          "output_type": "stream",
          "text": [
            "INFO:tensorflow:Calling model_fn.\n",
            "WARNING:tensorflow:Layer dnn is casting an input tensor from dtype float64 to the layer's dtype of float32, which is new behavior in TensorFlow 2.  The layer has dtype float32 because it's dtype defaults to floatx.\n",
            "\n",
            "If you intended to run this layer in float32, you can safely ignore this warning. If in doubt, this warning is likely only an issue if you are porting a TensorFlow 1.X model to TensorFlow 2.\n",
            "\n",
            "To change all layers to have dtype float64 by default, call `tf.keras.backend.set_floatx('float64')`. To change just this layer, pass dtype='float64' to the layer constructor. If you are the author of this layer, you can disable autocasting by passing autocast=False to the base Layer constructor.\n",
            "\n",
            "INFO:tensorflow:Done calling model_fn.\n",
            "INFO:tensorflow:Create CheckpointSaverHook.\n",
            "INFO:tensorflow:Graph was finalized.\n",
            "INFO:tensorflow:Restoring parameters from /tmp/tmpwads2zkt/model.ckpt-5000\n",
            "WARNING:tensorflow:From /usr/local/lib/python3.6/dist-packages/tensorflow/python/training/saver.py:1077: get_checkpoint_mtimes (from tensorflow.python.training.checkpoint_management) is deprecated and will be removed in a future version.\n",
            "Instructions for updating:\n",
            "Use standard file utilities to get mtimes.\n",
            "INFO:tensorflow:Running local_init_op.\n",
            "INFO:tensorflow:Done running local_init_op.\n",
            "INFO:tensorflow:Calling checkpoint listeners before saving checkpoint 5000...\n",
            "INFO:tensorflow:Saving checkpoints for 5000 into /tmp/tmpwads2zkt/model.ckpt.\n",
            "INFO:tensorflow:Calling checkpoint listeners after saving checkpoint 5000...\n",
            "INFO:tensorflow:loss = 0.2266383, step = 5000\n",
            "INFO:tensorflow:global_step/sec: 550.962\n",
            "INFO:tensorflow:loss = 0.22726053, step = 5100 (0.183 sec)\n",
            "INFO:tensorflow:global_step/sec: 756.836\n",
            "INFO:tensorflow:loss = 0.22315222, step = 5200 (0.133 sec)\n",
            "INFO:tensorflow:global_step/sec: 794.009\n",
            "INFO:tensorflow:loss = 0.21182644, step = 5300 (0.126 sec)\n",
            "INFO:tensorflow:global_step/sec: 773.676\n",
            "INFO:tensorflow:loss = 0.21867044, step = 5400 (0.128 sec)\n",
            "INFO:tensorflow:global_step/sec: 746.092\n",
            "INFO:tensorflow:loss = 0.20366943, step = 5500 (0.134 sec)\n",
            "INFO:tensorflow:global_step/sec: 755.14\n",
            "INFO:tensorflow:loss = 0.2156722, step = 5600 (0.134 sec)\n",
            "INFO:tensorflow:global_step/sec: 749.985\n",
            "INFO:tensorflow:loss = 0.21047394, step = 5700 (0.134 sec)\n",
            "INFO:tensorflow:global_step/sec: 722.635\n",
            "INFO:tensorflow:loss = 0.20969036, step = 5800 (0.137 sec)\n",
            "INFO:tensorflow:global_step/sec: 706.689\n",
            "INFO:tensorflow:loss = 0.1970811, step = 5900 (0.143 sec)\n",
            "INFO:tensorflow:global_step/sec: 732.233\n",
            "INFO:tensorflow:loss = 0.20370105, step = 6000 (0.135 sec)\n",
            "INFO:tensorflow:global_step/sec: 721.793\n",
            "INFO:tensorflow:loss = 0.18721056, step = 6100 (0.138 sec)\n",
            "INFO:tensorflow:global_step/sec: 702.709\n",
            "INFO:tensorflow:loss = 0.19094472, step = 6200 (0.142 sec)\n",
            "INFO:tensorflow:global_step/sec: 715.011\n",
            "INFO:tensorflow:loss = 0.18950465, step = 6300 (0.140 sec)\n",
            "INFO:tensorflow:global_step/sec: 753.41\n",
            "INFO:tensorflow:loss = 0.17971271, step = 6400 (0.133 sec)\n",
            "INFO:tensorflow:global_step/sec: 765.179\n",
            "INFO:tensorflow:loss = 0.17964646, step = 6500 (0.131 sec)\n",
            "INFO:tensorflow:global_step/sec: 789.217\n",
            "INFO:tensorflow:loss = 0.18350591, step = 6600 (0.128 sec)\n",
            "INFO:tensorflow:global_step/sec: 726.264\n",
            "INFO:tensorflow:loss = 0.16897744, step = 6700 (0.138 sec)\n",
            "INFO:tensorflow:global_step/sec: 783.837\n",
            "INFO:tensorflow:loss = 0.17188244, step = 6800 (0.127 sec)\n",
            "INFO:tensorflow:global_step/sec: 758.519\n",
            "INFO:tensorflow:loss = 0.17935911, step = 6900 (0.130 sec)\n",
            "INFO:tensorflow:global_step/sec: 744.529\n",
            "INFO:tensorflow:loss = 0.17113423, step = 7000 (0.134 sec)\n",
            "INFO:tensorflow:global_step/sec: 761.493\n",
            "INFO:tensorflow:loss = 0.1686225, step = 7100 (0.133 sec)\n",
            "INFO:tensorflow:global_step/sec: 744.719\n",
            "INFO:tensorflow:loss = 0.15505543, step = 7200 (0.133 sec)\n",
            "INFO:tensorflow:global_step/sec: 777.297\n",
            "INFO:tensorflow:loss = 0.16888948, step = 7300 (0.130 sec)\n",
            "INFO:tensorflow:global_step/sec: 751.22\n",
            "INFO:tensorflow:loss = 0.1670999, step = 7400 (0.132 sec)\n",
            "INFO:tensorflow:global_step/sec: 706.452\n",
            "INFO:tensorflow:loss = 0.16214308, step = 7500 (0.143 sec)\n",
            "INFO:tensorflow:global_step/sec: 712.131\n",
            "INFO:tensorflow:loss = 0.15989241, step = 7600 (0.141 sec)\n",
            "INFO:tensorflow:global_step/sec: 747.622\n",
            "INFO:tensorflow:loss = 0.1581072, step = 7700 (0.135 sec)\n",
            "INFO:tensorflow:global_step/sec: 741.207\n",
            "INFO:tensorflow:loss = 0.15329757, step = 7800 (0.132 sec)\n",
            "INFO:tensorflow:global_step/sec: 783.107\n",
            "INFO:tensorflow:loss = 0.16598004, step = 7900 (0.129 sec)\n",
            "INFO:tensorflow:global_step/sec: 725.348\n",
            "INFO:tensorflow:loss = 0.1491946, step = 8000 (0.136 sec)\n",
            "INFO:tensorflow:global_step/sec: 768.903\n",
            "INFO:tensorflow:loss = 0.1537323, step = 8100 (0.130 sec)\n",
            "INFO:tensorflow:global_step/sec: 755.539\n",
            "INFO:tensorflow:loss = 0.14117241, step = 8200 (0.134 sec)\n",
            "INFO:tensorflow:global_step/sec: 786.313\n",
            "INFO:tensorflow:loss = 0.1490451, step = 8300 (0.125 sec)\n",
            "INFO:tensorflow:global_step/sec: 764.626\n",
            "INFO:tensorflow:loss = 0.13668394, step = 8400 (0.133 sec)\n",
            "INFO:tensorflow:global_step/sec: 731.002\n",
            "INFO:tensorflow:loss = 0.13922459, step = 8500 (0.136 sec)\n",
            "INFO:tensorflow:global_step/sec: 749.971\n",
            "INFO:tensorflow:loss = 0.14627361, step = 8600 (0.133 sec)\n",
            "INFO:tensorflow:global_step/sec: 724.454\n",
            "INFO:tensorflow:loss = 0.1445941, step = 8700 (0.138 sec)\n",
            "INFO:tensorflow:global_step/sec: 742.794\n",
            "INFO:tensorflow:loss = 0.13860115, step = 8800 (0.133 sec)\n",
            "INFO:tensorflow:global_step/sec: 713.004\n",
            "INFO:tensorflow:loss = 0.13874476, step = 8900 (0.140 sec)\n",
            "INFO:tensorflow:global_step/sec: 756.105\n",
            "INFO:tensorflow:loss = 0.13771203, step = 9000 (0.132 sec)\n",
            "INFO:tensorflow:global_step/sec: 755.367\n",
            "INFO:tensorflow:loss = 0.14092736, step = 9100 (0.132 sec)\n",
            "INFO:tensorflow:global_step/sec: 747.407\n",
            "INFO:tensorflow:loss = 0.1358364, step = 9200 (0.135 sec)\n",
            "INFO:tensorflow:global_step/sec: 714.099\n",
            "INFO:tensorflow:loss = 0.12907982, step = 9300 (0.141 sec)\n",
            "INFO:tensorflow:global_step/sec: 694.32\n",
            "INFO:tensorflow:loss = 0.13565917, step = 9400 (0.144 sec)\n",
            "INFO:tensorflow:global_step/sec: 715.397\n",
            "INFO:tensorflow:loss = 0.13097012, step = 9500 (0.138 sec)\n",
            "INFO:tensorflow:global_step/sec: 676.592\n",
            "INFO:tensorflow:loss = 0.13061088, step = 9600 (0.149 sec)\n",
            "INFO:tensorflow:global_step/sec: 692.175\n",
            "INFO:tensorflow:loss = 0.12898955, step = 9700 (0.144 sec)\n",
            "INFO:tensorflow:global_step/sec: 740.861\n",
            "INFO:tensorflow:loss = 0.13159972, step = 9800 (0.134 sec)\n",
            "INFO:tensorflow:global_step/sec: 767.01\n",
            "INFO:tensorflow:loss = 0.13784108, step = 9900 (0.129 sec)\n",
            "INFO:tensorflow:Calling checkpoint listeners before saving checkpoint 10000...\n",
            "INFO:tensorflow:Saving checkpoints for 10000 into /tmp/tmpwads2zkt/model.ckpt.\n",
            "INFO:tensorflow:Calling checkpoint listeners after saving checkpoint 10000...\n",
            "INFO:tensorflow:Loss for final step: 0.122809574.\n"
          ],
          "name": "stdout"
        },
        {
          "output_type": "execute_result",
          "data": {
            "text/plain": [
              "<tensorflow_estimator.python.estimator.canned.dnn.DNNClassifierV2 at 0x7fa36e822160>"
            ]
          },
          "metadata": {
            "tags": []
          },
          "execution_count": 23
        }
      ]
    },
    {
      "cell_type": "markdown",
      "metadata": {
        "id": "VLrZeXOEs3Ia",
        "colab_type": "text"
      },
      "source": [
        "# Evaluation\n",
        "Trained model is evaluated on the test data"
      ]
    },
    {
      "cell_type": "code",
      "metadata": {
        "id": "gKxYoZcKsP8Z",
        "colab_type": "code",
        "outputId": "b5c09232-8510-4a8e-8fc1-4fedbc6c65ea",
        "colab": {
          "base_uri": "https://localhost:8080/",
          "height": 326
        }
      },
      "source": [
        "eval_result = classifier.evaluate(\n",
        "    input_fn=lambda: input_fn(test, test_y, training=False),\n",
        ")"
      ],
      "execution_count": 24,
      "outputs": [
        {
          "output_type": "stream",
          "text": [
            "INFO:tensorflow:Calling model_fn.\n",
            "WARNING:tensorflow:Layer dnn is casting an input tensor from dtype float64 to the layer's dtype of float32, which is new behavior in TensorFlow 2.  The layer has dtype float32 because it's dtype defaults to floatx.\n",
            "\n",
            "If you intended to run this layer in float32, you can safely ignore this warning. If in doubt, this warning is likely only an issue if you are porting a TensorFlow 1.X model to TensorFlow 2.\n",
            "\n",
            "To change all layers to have dtype float64 by default, call `tf.keras.backend.set_floatx('float64')`. To change just this layer, pass dtype='float64' to the layer constructor. If you are the author of this layer, you can disable autocasting by passing autocast=False to the base Layer constructor.\n",
            "\n",
            "INFO:tensorflow:Done calling model_fn.\n",
            "INFO:tensorflow:Starting evaluation at 2020-04-08T03:42:49Z\n",
            "INFO:tensorflow:Graph was finalized.\n",
            "INFO:tensorflow:Restoring parameters from /tmp/tmpwads2zkt/model.ckpt-10000\n",
            "INFO:tensorflow:Running local_init_op.\n",
            "INFO:tensorflow:Done running local_init_op.\n",
            "INFO:tensorflow:Inference Time : 0.19521s\n",
            "INFO:tensorflow:Finished evaluation at 2020-04-08-03:42:50\n",
            "INFO:tensorflow:Saving dict for global step 10000: accuracy = 0.96666664, average_loss = 0.13263257, global_step = 10000, loss = 0.13263257\n",
            "INFO:tensorflow:Saving 'checkpoint_path' summary for global step 10000: /tmp/tmpwads2zkt/model.ckpt-10000\n"
          ],
          "name": "stdout"
        }
      ]
    },
    {
      "cell_type": "code",
      "metadata": {
        "id": "jK3mA12StGGw",
        "colab_type": "code",
        "outputId": "252c39c9-fbd7-4501-c56a-728fa62f7e21",
        "colab": {
          "base_uri": "https://localhost:8080/",
          "height": 68
        }
      },
      "source": [
        "print('\\nTest set accuracy: {accuracy:0.3f}\\n'.format(**eval_result))"
      ],
      "execution_count": 25,
      "outputs": [
        {
          "output_type": "stream",
          "text": [
            "\n",
            "Test set accuracy: 0.967\n",
            "\n"
          ],
          "name": "stdout"
        }
      ]
    },
    {
      "cell_type": "markdown",
      "metadata": {
        "id": "wVE6sAWptU4b",
        "colab_type": "text"
      },
      "source": [
        "# Predictions "
      ]
    },
    {
      "cell_type": "code",
      "metadata": {
        "id": "CzsOdiqSvPz3",
        "colab_type": "code",
        "colab": {}
      },
      "source": [
        "# input function to make predictions \n",
        "def predict_input_fn(features, batch_size=256):\n",
        "  return tf.data.Dataset.from_tensor_slices(dict(features)).batch(batch_size)"
      ],
      "execution_count": 0,
      "outputs": []
    },
    {
      "cell_type": "code",
      "metadata": {
        "id": "OtC1B7bzySsc",
        "colab_type": "code",
        "colab": {}
      },
      "source": [
        "features = ['SepalLength', 'SepalWidth', 'PetalLength', 'PetalWidth']\n",
        "predict={}"
      ],
      "execution_count": 0,
      "outputs": []
    },
    {
      "cell_type": "code",
      "metadata": {
        "id": "_m96TrJnwmQn",
        "colab_type": "code",
        "outputId": "c8eca1cb-3c61-4ee0-cc5d-3d66a7984592",
        "colab": {
          "base_uri": "https://localhost:8080/",
          "height": 221
        }
      },
      "source": [
        "for feature in features:\n",
        "  # valid = True\n",
        "  # while valid:\n",
        "  #   val = input(feature + \":\")\n",
        "  #   if not val.isdigit(): valid=False\n",
        "  val = input(feature + \":\")\n",
        "  predict[feature] = [float(val)]\n",
        "\n",
        "predictions = classifier.predict(input_fn=lambda: predict_input_fn(predict))\n",
        "for pred_dict in predictions:\n",
        "  class_id = pred_dict['class_ids'][0]\n",
        "  probability = pred_dict['probabilities'][class_id]\n",
        "\n",
        "print('Actual class:',class_id)\n",
        "print('Probability of actual class:',probability*100)"
      ],
      "execution_count": 33,
      "outputs": [
        {
          "output_type": "stream",
          "text": [
            "SepalLength:6.0\n",
            "SepalWidth:3.4\n",
            "PetalLength:4.5\n",
            "PetalWidth:1.6\n",
            "INFO:tensorflow:Calling model_fn.\n",
            "INFO:tensorflow:Done calling model_fn.\n",
            "INFO:tensorflow:Graph was finalized.\n",
            "INFO:tensorflow:Restoring parameters from /tmp/tmpwads2zkt/model.ckpt-10000\n",
            "INFO:tensorflow:Running local_init_op.\n",
            "INFO:tensorflow:Done running local_init_op.\n",
            "Actual class: 1\n",
            "Probability of actual class: 88.73841166496277\n"
          ],
          "name": "stdout"
        }
      ]
    },
    {
      "cell_type": "code",
      "metadata": {
        "id": "BfQtFYcj4ZTc",
        "colab_type": "code",
        "colab": {}
      },
      "source": [
        ""
      ],
      "execution_count": 0,
      "outputs": []
    }
  ]
}
